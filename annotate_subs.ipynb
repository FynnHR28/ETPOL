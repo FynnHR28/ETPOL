{
 "cells": [
  {
   "cell_type": "code",
   "execution_count": 1,
   "id": "b8c421d6",
   "metadata": {},
   "outputs": [
    {
     "name": "stderr",
     "output_type": "stream",
     "text": [
      "/home/fhaytonruffner25/.local/lib/python3.9/site-packages/tqdm/auto.py:21: TqdmWarning: IProgress not found. Please update jupyter and ipywidgets. See https://ipywidgets.readthedocs.io/en/stable/user_install.html\n",
      "  from .autonotebook import tqdm as notebook_tqdm\n"
     ]
    }
   ],
   "source": [
    "from transformers import PreTrainedTokenizerFast\n",
    "from models import ETPOL\n",
    "import pandas as pd\n",
    "from pathlib import Path\n",
    "\n",
    "\n",
    "context_length = 512\n",
    "d_model = 768\n",
    "num_heads = 16\n",
    "num_hidden_layers = 4\n",
    "d_hidden = 2048\n",
    "num_encoders = 7 \n",
    " \n",
    " \n",
    "\n",
    "lr =  6.871199163253075e-05\n",
    "pdrop = 0.3099236390195026\n",
    "\n",
    "\n",
    "model = ETPOL(\n",
    "    vocab_size=20000,\n",
    "    context_length=context_length,\n",
    "    d_model=d_model,\n",
    "    d_hidden=d_hidden,\n",
    "    num_hidden_layers=num_hidden_layers,\n",
    "    num_heads=num_heads,\n",
    "    num_encoders=num_encoders,\n",
    "    pdrop=pdrop \n",
    ")\n",
    "\n",
    "tokenizer = PreTrainedTokenizerFast.from_pretrained(Path('wp_tokenizer'), model_max_lenth=context_length)\n"
   ]
  },
  {
   "cell_type": "code",
   "execution_count": 2,
   "id": "51990eb7",
   "metadata": {},
   "outputs": [
    {
     "data": {
      "text/plain": [
       "<All keys matched successfully>"
      ]
     },
     "execution_count": 2,
     "metadata": {},
     "output_type": "execute_result"
    }
   ],
   "source": [
    "import torch\n",
    "model.load_state_dict(torch.load('./models/etpol.pth', map_location=torch.device('cpu')))"
   ]
  },
  {
   "cell_type": "code",
   "execution_count": 3,
   "id": "fbe6be13",
   "metadata": {},
   "outputs": [],
   "source": [
    "\n",
    "reverse_label_map = {1: 'left', 0: 'right'}\n",
    "def get_pol(content):\n",
    "    tokenized = tokenizer.encode(content,\n",
    "                                 max_length=context_length,\n",
    "                                 padding='max_length',\n",
    "                                 truncation = True\n",
    "                            )\n",
    "    inp = torch.tensor(tokenized).unsqueeze(0)\n",
    "    logits = model(inp)\n",
    "    return reverse_label_map[int(torch.argmax(logits, dim=-1))]\n",
    "\n"
   ]
  },
  {
   "cell_type": "code",
   "execution_count": 7,
   "id": "44efcc2b",
   "metadata": {},
   "outputs": [
    {
     "name": "stdout",
     "output_type": "stream",
     "text": [
      "{'left': 0, 'right': 10}\n"
     ]
    }
   ],
   "source": [
    "counts = {\n",
    "    'left': 0,\n",
    "    'right': 0\n",
    "}\n",
    "\n",
    "model.eval()\n",
    "for i in range(10):\n",
    "    counts[get_pol(\"anarcho biden capitalism\")] += 1\n",
    "    \n",
    "print(counts)\n"
   ]
  }
 ],
 "metadata": {
  "kernelspec": {
   "display_name": "Python 3",
   "language": "python",
   "name": "python3"
  },
  "language_info": {
   "codemirror_mode": {
    "name": "ipython",
    "version": 3
   },
   "file_extension": ".py",
   "mimetype": "text/x-python",
   "name": "python",
   "nbconvert_exporter": "python",
   "pygments_lexer": "ipython3",
   "version": "3.9.20"
  }
 },
 "nbformat": 4,
 "nbformat_minor": 5
}
