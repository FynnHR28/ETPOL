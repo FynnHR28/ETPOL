{
 "cells": [
  {
   "cell_type": "code",
   "execution_count": 1,
   "id": "b8c421d6",
   "metadata": {},
   "outputs": [],
   "source": [
    "from transformers import PreTrainedTokenizerFast\n",
    "from models import ETPOL\n",
    "import pandas as pd\n",
    "from pathlib import Path\n",
    "\n",
    "\n",
    "context_length = 512\n",
    "d_model = 768\n",
    "num_heads = 16\n",
    "num_hidden_layers = 4\n",
    "d_hidden = 2048\n",
    "num_encoders = 7 \n",
    "num_epochs = 10\n",
    "mod_name = 'etpol'\n",
    "\n",
    "lr =  6.871199163253075e-05\n",
    "pdrop = 0.3099236390195026\n",
    "batch_size = 32\n",
    "\n",
    "model = ETPOL(\n",
    "    vocab_size=20000,\n",
    "    context_length=context_length,\n",
    "    d_model=d_model,\n",
    "    d_hidden=d_hidden,\n",
    "    num_hidden_layers=num_hidden_layers,\n",
    "    num_heads=num_heads,\n",
    "    num_encoders=num_encoders,\n",
    "    pdrop=pdrop \n",
    ")\n",
    "\n",
    "tokenizer = PreTrainedTokenizerFast.from_pretrained(Path('wp_tokenizer'), model_max_lenth=context_length)\n"
   ]
  },
  {
   "cell_type": "code",
   "execution_count": null,
   "id": "fbe6be13",
   "metadata": {},
   "outputs": [
    {
     "name": "stdout",
     "output_type": "stream",
     "text": [
      "0\n",
      "10\n",
      "20\n",
      "30\n",
      "40\n",
      "50\n",
      "60\n",
      "70\n",
      "80\n"
     ]
    },
    {
     "ename": "KeyboardInterrupt",
     "evalue": "",
     "output_type": "error",
     "traceback": [
      "\u001b[0;31m---------------------------------------------------------------------------\u001b[0m",
      "\u001b[0;31mKeyboardInterrupt\u001b[0m                         Traceback (most recent call last)",
      "Cell \u001b[0;32mIn[31], line 19\u001b[0m\n\u001b[1;32m     17\u001b[0m \u001b[38;5;28;01mfor\u001b[39;00m i, ex \u001b[38;5;129;01min\u001b[39;00m \u001b[38;5;28menumerate\u001b[39m(content): \n\u001b[1;32m     18\u001b[0m     \u001b[38;5;28;01mif\u001b[39;00m i \u001b[38;5;241m%\u001b[39m \u001b[38;5;241m10\u001b[39m \u001b[38;5;241m==\u001b[39m \u001b[38;5;241m0\u001b[39m: \u001b[38;5;28mprint\u001b[39m(i)\n\u001b[0;32m---> 19\u001b[0m     get_pol(ex)\n",
      "\u001b[0;31mKeyboardInterrupt\u001b[0m: "
     ]
    }
   ],
   "source": [
    "from os import truncate\n",
    "import torch\n",
    "reverse_label_map = {1: 'left', 0: 'right'}\n",
    "def get_pol(content):\n",
    "    tokenized = tokenizer.encode(content,\n",
    "                                 max_length=context_length,\n",
    "                                 padding='max_length',\n",
    "                                 truncation = True\n",
    "                            )\n",
    "    inp = torch.tensor(tokenized).unsqueeze(0)\n",
    "    logits = model(inp)\n",
    "    return reverse_label_map[int(torch.argmax(logits, dim=-1))]\n",
    "\n",
    "posts = pd.read_csv('./scrape/subreddits_cleaned.csv')\n",
    "\n",
    "# loop is working, now hopefully i can to device this shit on the gpu\n",
    "content = posts['content']\n",
    "for i, ex in enumerate(content): \n",
    "    if i % 10 == 0: print(i)\n",
    "    get_pol(ex)\n",
    "\n",
    "\n",
    "\n",
    "\n"
   ]
  }
 ],
 "metadata": {
  "kernelspec": {
   "display_name": "base",
   "language": "python",
   "name": "python3"
  },
  "language_info": {
   "codemirror_mode": {
    "name": "ipython",
    "version": 3
   },
   "file_extension": ".py",
   "mimetype": "text/x-python",
   "name": "python",
   "nbconvert_exporter": "python",
   "pygments_lexer": "ipython3",
   "version": "3.12.7"
  }
 },
 "nbformat": 4,
 "nbformat_minor": 5
}
