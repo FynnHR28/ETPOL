{
 "cells": [
  {
   "cell_type": "code",
   "execution_count": 1,
   "id": "43fb8e24",
   "metadata": {},
   "outputs": [
    {
     "ename": "ModuleNotFoundError",
     "evalue": "No module named 'test_utils'",
     "output_type": "error",
     "traceback": [
      "\u001b[0;31m---------------------------------------------------------------------------\u001b[0m",
      "\u001b[0;31mModuleNotFoundError\u001b[0m                       Traceback (most recent call last)",
      "Cell \u001b[0;32mIn[1], line 1\u001b[0m\n\u001b[0;32m----> 1\u001b[0m \u001b[38;5;28;01mfrom\u001b[39;00m\u001b[38;5;250m \u001b[39m\u001b[38;5;21;01mtest_utils\u001b[39;00m\u001b[38;5;250m \u001b[39m\u001b[38;5;28;01mimport\u001b[39;00m save_results\n\u001b[1;32m      5\u001b[0m results \u001b[38;5;241m=\u001b[39m {\n\u001b[1;32m      6\u001b[0m         \u001b[38;5;124m'\u001b[39m\u001b[38;5;124mf1_train\u001b[39m\u001b[38;5;124m'\u001b[39m: [\u001b[38;5;241m1\u001b[39m],\n\u001b[1;32m      7\u001b[0m         \u001b[38;5;124m'\u001b[39m\u001b[38;5;124macc_train\u001b[39m\u001b[38;5;124m'\u001b[39m: [\u001b[38;5;241m2\u001b[39m],\n\u001b[0;32m   (...)\u001b[0m\n\u001b[1;32m     20\u001b[0m         \u001b[38;5;124m'\u001b[39m\u001b[38;5;124mrecall_test\u001b[39m\u001b[38;5;124m'\u001b[39m: \u001b[38;5;241m0\u001b[39m\n\u001b[1;32m     21\u001b[0m     }   \n\u001b[1;32m     24\u001b[0m save_results(results, \u001b[38;5;124m\"\u001b[39m\u001b[38;5;124mfake hyper string\u001b[39m\u001b[38;5;124m\"\u001b[39m, \u001b[38;5;124m'\u001b[39m\u001b[38;5;124mthis is testing the csv writer\u001b[39m\u001b[38;5;124m'\u001b[39m)\n",
      "\u001b[0;31mModuleNotFoundError\u001b[0m: No module named 'test_utils'"
     ]
    }
   ],
   "source": [
    "from test_utils import save_results\n",
    "\n",
    "\n",
    "\n",
    "results = {\n",
    "        'f1_train': [1],\n",
    "        'acc_train': [2],\n",
    "        'loss_train': [3],\n",
    "        'prec_train': [4],\n",
    "        'recall_train': [5],\n",
    "        'f1_val': [4],\n",
    "        'acc_val': [3],\n",
    "        'loss_val': [2],\n",
    "        'prec_val': [1],\n",
    "        'recall_val': [2],\n",
    "        'f1_test': 0,\n",
    "        'acc_test': 0,\n",
    "        'loss_test': 0,\n",
    "        'prec_test': 0,\n",
    "        'recall_test': 0\n",
    "    }   \n",
    "\n",
    "\n",
    "save_results(results, \"fake hyper string\", 'this is testing the csv writer')"
   ]
  }
 ],
 "metadata": {
  "kernelspec": {
   "display_name": "Python 3",
   "language": "python",
   "name": "python3"
  },
  "language_info": {
   "codemirror_mode": {
    "name": "ipython",
    "version": 3
   },
   "file_extension": ".py",
   "mimetype": "text/x-python",
   "name": "python",
   "nbconvert_exporter": "python",
   "pygments_lexer": "ipython3",
   "version": "3.9.6"
  }
 },
 "nbformat": 4,
 "nbformat_minor": 5
}
