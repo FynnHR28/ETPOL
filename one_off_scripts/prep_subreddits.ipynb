{
 "cells": [
  {
   "cell_type": "code",
   "execution_count": 1,
   "id": "72951c63",
   "metadata": {},
   "outputs": [],
   "source": [
    "\n",
    "from PostsDataset import clean_text\n",
    "from models import ETPOL\n",
    "import pandas as pd\n",
    "\n",
    "subs = {'climatechange', 'nba', 'guns','democrats', 'Republican', 'saturdaynightlive', 'abortion'}\n",
    " \n",
    "df = pd.read_csv('./scrape/scraped_posts.csv')\n",
    "df = df.fillna(\"\")\n",
    "df = df[df['subreddit'].isin(subs)]\n",
    "df['content'] = df['title'] + df['text']\n",
    "df['content'] = df['content'].map(clean_text)\n",
    "df['content'] = df['content'].fillna('').astype(str)\n",
    "\n",
    "\n",
    "df.to_csv('./scrape/subreddits_cleaned.csv', index=False)\n",
    "\n"
   ]
  }
 ],
 "metadata": {
  "kernelspec": {
   "display_name": "base",
   "language": "python",
   "name": "python3"
  },
  "language_info": {
   "codemirror_mode": {
    "name": "ipython",
    "version": 3
   },
   "file_extension": ".py",
   "mimetype": "text/x-python",
   "name": "python",
   "nbconvert_exporter": "python",
   "pygments_lexer": "ipython3",
   "version": "3.12.7"
  }
 },
 "nbformat": 4,
 "nbformat_minor": 5
}
