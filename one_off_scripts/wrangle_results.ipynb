{
 "cells": [
  {
   "cell_type": "code",
   "execution_count": null,
   "id": "30c06f5b",
   "metadata": {},
   "outputs": [],
   "source": [
    "# SCRIPT TO COMBINE THE RESULTS OF ALL RANDOM CONFIG TRIALS AND PROPERLY FORMAT FOR DISPLAY IN Writeup.ipynb\n",
    "import pandas as pd\n",
    "\n",
    "test_results = []\n",
    "for test_num in range(1,7):\n",
    "    test_num = str(test_num)\n",
    "    # read in the dataframe for the current test\n",
    "    test_df = pd.read_csv(f'results/test_' + test_num + '_metrics.csv')\n",
    "    # pivot longer such that each metric has its own row while still mapping to proper epoch and set accordingly\n",
    "    test_df = pd.melt(test_df, id_vars=['epoch', 'set'], var_name='metric', value_name='score')\n",
    "    # add the model column to all rows to ensure these observations are mapped to the right model\n",
    "    test_df['model'] = f'Test {test_num}'\n",
    "    test_results.append(test_df)\n",
    "\n",
    "\n",
    "# add all properly formatted dataframes for each training trial together into one df and save to csv\n",
    "df = pd.concat(test_results, axis=0, ignore_index=True)\n",
    "df.to_csv('./data/all_test_results.csv', index=False)"
   ]
  },
  {
   "cell_type": "code",
   "execution_count": null,
   "id": "c78223e6",
   "metadata": {},
   "outputs": [],
   "source": []
  }
 ],
 "metadata": {
  "kernelspec": {
   "display_name": "base",
   "language": "python",
   "name": "python3"
  },
  "language_info": {
   "codemirror_mode": {
    "name": "ipython",
    "version": 3
   },
   "file_extension": ".py",
   "mimetype": "text/x-python",
   "name": "python",
   "nbconvert_exporter": "python",
   "pygments_lexer": "ipython3",
   "version": "3.12.7"
  }
 },
 "nbformat": 4,
 "nbformat_minor": 5
}
