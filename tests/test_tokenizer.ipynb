{
 "cells": [
  {
   "cell_type": "code",
   "execution_count": 13,
   "id": "fb34e62b",
   "metadata": {},
   "outputs": [],
   "source": [
    "from transformers import PreTrainedTokenizerFast\n",
    "from pathlib import Path\n",
    "\n",
    "tokenizer = PreTrainedTokenizerFast.from_pretrained(Path('wp_tokenizer'), model_max_lenth=512)"
   ]
  },
  {
   "cell_type": "code",
   "execution_count": 20,
   "id": "95940e02",
   "metadata": {},
   "outputs": [
    {
     "data": {
      "text/plain": [
       "[2, 7603, 9, 154, 131, 25, 1530, 19216]"
      ]
     },
     "execution_count": 20,
     "metadata": {},
     "output_type": "execute_result"
    }
   ],
   "source": [
    "tokenized = tokenizer.encode('hello, this is a test string')\n",
    "# now it has the cls token at the beginning\n",
    "tokenized"
   ]
  },
  {
   "cell_type": "code",
   "execution_count": 21,
   "id": "40f474c3",
   "metadata": {},
   "outputs": [
    {
     "data": {
      "text/plain": [
       "'[CLS] hello , this is a test string'"
      ]
     },
     "execution_count": 21,
     "metadata": {},
     "output_type": "execute_result"
    }
   ],
   "source": [
    "# confirms that it outputs the test string with the cls token!\n",
    "tokenizer.decode(tokenized)"
   ]
  }
 ],
 "metadata": {
  "kernelspec": {
   "display_name": "base",
   "language": "python",
   "name": "python3"
  },
  "language_info": {
   "codemirror_mode": {
    "name": "ipython",
    "version": 3
   },
   "file_extension": ".py",
   "mimetype": "text/x-python",
   "name": "python",
   "nbconvert_exporter": "python",
   "pygments_lexer": "ipython3",
   "version": "3.12.7"
  }
 },
 "nbformat": 4,
 "nbformat_minor": 5
}
